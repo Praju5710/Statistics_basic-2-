{
 "cells": [
  {
   "cell_type": "markdown",
   "id": "c063d7bb-6cc2-4eff-a5e5-e2fbabcaf2bf",
   "metadata": {},
   "source": [
    "Q1. What are the three measures of central tendency?"
   ]
  },
  {
   "cell_type": "markdown",
   "id": "61ef256b-dce9-46f8-8996-4f4c1c31b8b9",
   "metadata": {},
   "source": [
    "#### The three main measures of central tendency are:\n",
    "#### 1) Mean: The mean, often referred to as the average, is calculated by summing all values in a dataset and dividing by the number of observations.\n",
    "#### 2) Median: The median is the middle value of a dataset when it is ordered. If there is an even number of observations, the median is the average of the two middle values.\n",
    "#### 3) Mode: The mode is the value that occurs most frequently in a dataset."
   ]
  },
  {
   "cell_type": "markdown",
   "id": "b671c311-9972-4378-bb70-16ad73cd90fa",
   "metadata": {},
   "source": [
    "Q2. What is the difference between the mean, median, and mode? How are they used to measure the\n",
    "central tendency of a dataset?"
   ]
  },
  {
   "cell_type": "markdown",
   "id": "e326b4f1-eafa-4a19-a738-246144d4842e",
   "metadata": {},
   "source": [
    "### Differences:\n",
    "#### 1) Sensitivity to Extreme Values:\n",
    "#### Mean: Sensitive to extreme values. A few very high or low values can significantly impact the mean.\n",
    "#### Median: Less sensitive to extreme values. The median is not influenced by outliers.\n",
    "#### Mode: Not affected by extreme values, as it is determined solely by the most frequent value.\n",
    "#### 2) Calculation:\n",
    "#### Mean: Calculated by summing all values and dividing by the number of observations.\n",
    "#### Median: The middle value when data is ordered, or the average of the two middle values for an even dataset.\n",
    "#### Mode: The value(s) that occur most frequently.\n",
    "#### 3) Applicability:\n",
    "#### Mean: Suitable for symmetric distributions without significant skewness.\n",
    "#### Median: Suitable for skewed distributions or datasets with outliers.\n",
    "#### Mode: Useful for identifying the most common value, especially in categorical data.\n",
    "### Usage in Measuring Central Tendency:\n",
    "#### Single Measure: The mean provides a balance point, the median gives the middle value, and the mode identifies the most frequent value.\n",
    "#### Consideration of Data Distribution: The choice between mean, median, or mode often depends on the distribution of the data. In symmetric distributions, the mean may be preferred, while skewed or non-normally distributed data may be better represented by the median.\n",
    "#### Robustness: The median and mode are more robust to extreme values and outliers, making them suitable for datasets with skewed distributions or data points that significantly differ from the majority."
   ]
  },
  {
   "cell_type": "markdown",
   "id": "f3096b4a-4471-4556-9892-6b8581a7bb24",
   "metadata": {},
   "source": [
    "Q3. Measure the three measures of central tendency for the given height data:                   \n",
    "[178,177,176,177,178.2,178,175,179,180,175,178.9,176.2,177,172.5,178,176.5]"
   ]
  },
  {
   "cell_type": "code",
   "execution_count": 2,
   "id": "1de7d429-f76f-4907-9195-0d3b8257d674",
   "metadata": {},
   "outputs": [],
   "source": [
    "import numpy as np "
   ]
  },
  {
   "cell_type": "code",
   "execution_count": 3,
   "id": "1e382816-7ae7-425f-968a-38cc646bbaaf",
   "metadata": {},
   "outputs": [
    {
     "data": {
      "text/plain": [
       "177.01875"
      ]
     },
     "execution_count": 3,
     "metadata": {},
     "output_type": "execute_result"
    }
   ],
   "source": [
    "### Mean  \n",
    "height=[178,177,176,177,178.2,178,175,179,180,175,178.9,176.2,177,172.5,178,176.5]\n",
    "np.mean(height)"
   ]
  },
  {
   "cell_type": "code",
   "execution_count": 4,
   "id": "6e3b19ba-6802-4261-9bcf-056bdc6ee675",
   "metadata": {},
   "outputs": [
    {
     "data": {
      "text/plain": [
       "177.0"
      ]
     },
     "execution_count": 4,
     "metadata": {},
     "output_type": "execute_result"
    }
   ],
   "source": [
    "### Median \n",
    "np.median(height)"
   ]
  },
  {
   "cell_type": "code",
   "execution_count": 6,
   "id": "c440bb34-46fd-431d-ae7b-d6bdd41e2257",
   "metadata": {},
   "outputs": [
    {
     "name": "stderr",
     "output_type": "stream",
     "text": [
      "/tmp/ipykernel_1950/27516264.py:3: FutureWarning: Unlike other reduction functions (e.g. `skew`, `kurtosis`), the default behavior of `mode` typically preserves the axis it acts along. In SciPy 1.11.0, this behavior will change: the default value of `keepdims` will become False, the `axis` over which the statistic is taken will be eliminated, and the value None will no longer be accepted. Set `keepdims` to True or False to avoid this warning.\n",
      "  stats.mode(height)\n"
     ]
    },
    {
     "data": {
      "text/plain": [
       "ModeResult(mode=array([177.]), count=array([3]))"
      ]
     },
     "execution_count": 6,
     "metadata": {},
     "output_type": "execute_result"
    }
   ],
   "source": [
    "### Mode\n",
    "from scipy import stats\n",
    "stats.mode(height)"
   ]
  },
  {
   "cell_type": "markdown",
   "id": "816220a9-4181-462c-8641-38ab739446d4",
   "metadata": {},
   "source": [
    "Q4. Find the standard deviation for the given data:                             \n",
    "[178,177,176,177,178.2,178,175,179,180,175,178.9,176.2,177,172.5,178,176.5]"
   ]
  },
  {
   "cell_type": "code",
   "execution_count": 8,
   "id": "542c56ae-ba7c-49f8-a63e-06d97d7fe00e",
   "metadata": {},
   "outputs": [],
   "source": [
    "new_height=[178,177,176,177,178.2,178,175,179,180,175,178.9,176.2,177,172.5,178,176.5]"
   ]
  },
  {
   "cell_type": "code",
   "execution_count": 9,
   "id": "d220cbb9-bc28-45ae-87e9-327b69b0fe1b",
   "metadata": {},
   "outputs": [
    {
     "data": {
      "text/plain": [
       "1.7885814036548633"
      ]
     },
     "execution_count": 9,
     "metadata": {},
     "output_type": "execute_result"
    }
   ],
   "source": [
    "np.std(new_height)"
   ]
  },
  {
   "cell_type": "markdown",
   "id": "86ba8e89-450d-47e1-b27e-6c3d72cef6e7",
   "metadata": {},
   "source": [
    "Q5. How are measures of dispersion such as range, variance, and standard deviation used to describe\n",
    "the spread of a dataset? Provide an example."
   ]
  },
  {
   "cell_type": "markdown",
   "id": "1c100e38-002e-4047-835e-758c6c6fc86a",
   "metadata": {},
   "source": [
    "### Measures of Dispersion:\n",
    "#### 1) Range: The range is the difference between the maximum and minimum values in a dataset.\n",
    "#### Use: Range provides a simple measure of the spread of the data. It is sensitive to extreme values but may not accurately represent overall variability.\n",
    "#### 2) Variance: Variance measures the average squared deviation of each data point from the mean.\n",
    "#### Use: Variance provides a measure of the overall variability in a dataset. However, it is in squared units, making interpretation less intuitive.\n",
    "#### 3) Standard Deviation: The standard deviation is the square root of the variance.\n",
    "#### Use: Like variance, the standard deviation measures the spread of data points. It has the advantage of being in the same units as the original data, making it more interpretable than variance.\n",
    "#### How They Describe the Spread of a Dataset:\n",
    "#### Example: Consider two datasets of exam scores:\n",
    "Dataset A: [70, 72, 75, 78, 80]                   \n",
    "Dataset B: [60, 70, 75, 85, 90]\n",
    "#### Range: The range of Dataset A (10) is smaller than the range of Dataset B (30). The range indicates that Dataset A has less variability or spread.\n",
    "#### Variance: The variance for Dataset A is 13.6 and Dataset B is 114. A larger variance suggests greater variability. The variance of Dataset B is higher, it indicates more spread in scores.\n",
    "#### Standard Deviation: The standard deviation complements the variance. The standard deviation is larger for Dataset B, it indicates greater variability in scores compared to Dataset A."
   ]
  },
  {
   "cell_type": "markdown",
   "id": "eac8edfc-e33a-4f0b-a726-bbe80ae5ba0e",
   "metadata": {},
   "source": [
    "Q6. What is a Venn diagram?"
   ]
  },
  {
   "cell_type": "markdown",
   "id": "dc443117-a446-4c57-824b-d1e4b8987714",
   "metadata": {},
   "source": [
    "#### A Venn diagram is a graphical representation of the relationships between sets. It uses circles or other shapes to depict the extent of overlap or common elements between different sets. Each set is represented by a closed curve, and the overlapping regions show the elements that are common to more than one set.\n",
    "#### Key features of a Venn diagram:\n",
    "#### Sets: Each closed curve in a Venn diagram represents a set.\n",
    "#### Overlapping Regions: The overlapping areas between sets represent the elements that are common to those sets.\n",
    "#### Non-overlapping Regions: The non-overlapping portions of each set represent elements that are unique to that particular set."
   ]
  },
  {
   "cell_type": "markdown",
   "id": "34df9539-7715-4272-9c05-eb556344e65e",
   "metadata": {},
   "source": [
    "Q7. For the two given sets A = (2,3,4,5,6,7) & B = (0,2,6,8,10). Find:           \n",
    "(i) A intersect B      \n",
    "(ii) A ⋃ B"
   ]
  },
  {
   "cell_type": "code",
   "execution_count": 4,
   "id": "c0ea6288-9d81-4e1e-8be8-a5d575aac2e8",
   "metadata": {},
   "outputs": [],
   "source": [
    "A= {2,3,4,5,6,7}"
   ]
  },
  {
   "cell_type": "code",
   "execution_count": 5,
   "id": "2d97054a-9428-42c4-b20d-931d59f966ef",
   "metadata": {},
   "outputs": [],
   "source": [
    "B= {0,2,6,8,10}"
   ]
  },
  {
   "cell_type": "code",
   "execution_count": 8,
   "id": "29595c88-7cd6-462e-bb7b-623a4051919d",
   "metadata": {},
   "outputs": [
    {
     "name": "stdout",
     "output_type": "stream",
     "text": [
      "{2, 6}\n"
     ]
    }
   ],
   "source": [
    "### i) Intersection\n",
    "A_int_B=A & B \n",
    "print( A_int_B)"
   ]
  },
  {
   "cell_type": "code",
   "execution_count": 9,
   "id": "aa5bb133-7a60-428e-826d-abe2461d81f4",
   "metadata": {},
   "outputs": [
    {
     "name": "stdout",
     "output_type": "stream",
     "text": [
      "{0, 2, 3, 4, 5, 6, 7, 8, 10}\n"
     ]
    }
   ],
   "source": [
    "### ii)  Union \n",
    "A_uni_B=A | B\n",
    "print(A_uni_B)"
   ]
  },
  {
   "cell_type": "markdown",
   "id": "58465759-75e1-4376-aeac-11e0498596c7",
   "metadata": {},
   "source": [
    "Q8. What do you understand about skewness in data?"
   ]
  },
  {
   "cell_type": "markdown",
   "id": "2e86f779-0e25-417f-b0b6-50a134c058c2",
   "metadata": {},
   "source": [
    "#### Skewness is a measure of the asymmetry or lack of symmetry in a dataset's distribution. In a symmetrical distribution, the left and right sides are mirror images of each other. Skewness quantifies the extent and direction of any deviation from symmetrical distribution.\n",
    "#### There are three types of skewness:\n",
    "#### 1) Positive Skewness (Right Skewness): The right tail is longer or fatter than the left. The majority of the data points are concentrated on the left side of the distribution, and the right side extends further. The mean is usually greater than the median. It is also called \"right skewness\" because the tail points towards the right.\n",
    "#### 2) Negative Skewness (Left Skewness): The left tail is longer or fatter than the right. The majority of the data points are concentrated on the right side of the distribution, and the left side extends further. The mean is usually less than the median. It is also called \"left skewness\" because the tail points towards the left.\n",
    "#### 3) Zero Skewness: The distribution is perfectly symmetrical. The mean and median are equal, and the tails on both sides are of equal length."
   ]
  },
  {
   "cell_type": "markdown",
   "id": "290c437a-2d4f-46d2-9a69-27a7d5bcb325",
   "metadata": {},
   "source": [
    "Q9. If a data is right skewed then what will be the position of median with respect to mean?"
   ]
  },
  {
   "cell_type": "markdown",
   "id": "fa8e65c8-4e6e-4344-ab6c-60f574a257c2",
   "metadata": {},
   "source": [
    "#### Position of the Mean: The mean is influenced by extreme values or outliers on the right side of the distribution. It is typically greater than the median.\n",
    "#### Position of the Median: The median represents the middle value when the data is ordered from smallest to largest. In a right-skewed distribution, the median is typically less than the mean. The median is less affected by extreme values compared to the mean.\n",
    "#### So, in a right-skewed distribution, the position of the median is usually to the left of the mean. "
   ]
  },
  {
   "cell_type": "markdown",
   "id": "b2bbbf87-bc61-4a36-bee1-742e63e5c612",
   "metadata": {},
   "source": [
    "Q10. Explain the difference between covariance and correlation. How are these measures used in\n",
    "statistical analysis?"
   ]
  },
  {
   "cell_type": "markdown",
   "id": "1694c65f-6535-4db3-a3e3-d7ff2ecc1cf6",
   "metadata": {},
   "source": [
    "### Difference : \n",
    "#### Covariance:\n",
    "#### Definition: Covariance is a measure of how much two variables change together. It indicates whether an increase in one variable is associated with an increase or decrease in another variable. The sign of the covariance indicates the direction of the relationship (positive or negative), while the magnitude of covariance is not standardized and depends on the scales of the variables.\n",
    "#### Interpretation:\n",
    "##### Positive covariance: Indicates that as one variable increases, the other tends to increase.\n",
    "##### Negative covariance: Indicates that as one variable increases, the other tends to decrease.\n",
    "##### Covariance close to zero: Indicates a weak or no linear relationship.\n",
    "#### Correlation:\n",
    "#### Definition: Correlation is a standardized measure of the strength and direction of a linear relationship between two variables. Unlike covariance, correlation is scaled between -1 and 1, where -1 indicates a perfect negative linear relationship, 1 indicates a perfect positive linear relationship, and 0 indicates no linear relationship.\n",
    "#### Interpretation:\n",
    "##### r=1 : Perfect positive linear relationship.\n",
    "##### r=−1: Perfect negative linear relationship.\n",
    "##### r=0: No linear relationship.\n",
    "##### −1<r<0: Negative correlation (as one variable increases, the other tends to decrease).\n",
    "##### 0<r<1: Positive correlation (as one variable increases, the other tends to increase).\n",
    "### Usage in Statistical Analysis:\n",
    "#### Covariance:\n",
    "##### i) Covariance is used to understand the direction of the relationship between two variables.\n",
    "##### ii) It is not standardized and depends on the units of the variables.\n",
    "##### iii) Covariance is not easily interpretable in terms of the strength of the relationship.\n",
    "#### Correlation:\n",
    "##### i) Correlation is widely used because it is standardized and allows for easier interpretation of the strength and direction of the relationship.\n",
    "##### ii) The correlation coefficient (r) ranges from -1 to 1, making it comparable across different datasets.\n",
    "##### iii) Correlation is more robust to differences in the scales of the variables, making it a preferred measure for comparing relationships."
   ]
  },
  {
   "cell_type": "markdown",
   "id": "85d4c7bd-c743-44f3-8a06-78a64374d867",
   "metadata": {},
   "source": [
    "Q11. What is the formula for calculating the sample mean? Provide an example calculation for a\n",
    "dataset."
   ]
  },
  {
   "cell_type": "markdown",
   "id": "3e13dafa-858e-4c69-a170-f13369a2cae9",
   "metadata": {},
   "source": [
    "#### The sample mean is calculated by summing up all the individual data points in a sample and dividing the sum by the number of observations in the sample. The formula for the sample mean is as follows: \n",
    "#### sample mean = (sum of all Xi)/n "
   ]
  },
  {
   "cell_type": "markdown",
   "id": "2d7da71f-13f1-4784-8f6c-360e24da923d",
   "metadata": {},
   "source": [
    "#### Consider the following dataset of exam scores for a sample of students: [75, 82, 68, 90, 78]"
   ]
  },
  {
   "cell_type": "code",
   "execution_count": 2,
   "id": "e7592d20-d412-4745-afcb-30350d62c8e8",
   "metadata": {},
   "outputs": [
    {
     "name": "stdout",
     "output_type": "stream",
     "text": [
      "78.6\n"
     ]
    }
   ],
   "source": [
    "sample_mean=(75+82+68+90+78)/5\n",
    "print(sample_mean)"
   ]
  },
  {
   "cell_type": "markdown",
   "id": "788e70f3-f1c8-4f22-9833-f7e7d9dbdf40",
   "metadata": {},
   "source": [
    "#### So, the sample mean for this dataset is 78.6. It represents the average exam score for the sample of students."
   ]
  },
  {
   "cell_type": "markdown",
   "id": "f7e34f1c-c15d-4b7a-9115-5ae1ed92d867",
   "metadata": {},
   "source": [
    "Q12. For a normal distribution data what is the relationship between its measure of central tendency?"
   ]
  },
  {
   "cell_type": "markdown",
   "id": "7f35c3a0-6d71-4fb2-a17a-f034f35d87c0",
   "metadata": {},
   "source": [
    "#### Mean:\n",
    "##### In a normal distribution, the mean is equal to the median.\n",
    "##### The mean is located at the center of the distribution, and the normal distribution is symmetric around the mean.\n",
    "#### Median:\n",
    "##### The median of a normal distribution is equal to the mean.\n",
    "##### Since the normal distribution is symmetric, the median is at the center, and the data is equally distributed on both sides.\n",
    "#### Mode:\n",
    "##### The mode of a normal distribution is also equal to the mean and median.\n",
    "##### In a perfectly symmetrical normal distribution, every point on the curve is a mode, and there is only one mode at the peak of the distribution.\n",
    "#### Hence, for a normal distribution: Mean=Median=Mode"
   ]
  },
  {
   "cell_type": "markdown",
   "id": "0e75b8b4-b83e-4938-92d1-9b44cb8f5f99",
   "metadata": {},
   "source": [
    "Q13. How is covariance different from correlation?"
   ]
  },
  {
   "cell_type": "markdown",
   "id": "129a667f-727b-4f57-b5a7-f9ee5b618593",
   "metadata": {},
   "source": [
    "### Covariance:\n",
    "#### Definition: Covariance measures how much two variables change together. It indicates the direction of the linear relationship between two variables (positive or negative) but does not provide a standardized measure of the strength of the relationship.\n",
    "#### Units: Covariance is in the original units of the variables. The magnitude of covariance depends on the scales of the variables.\n",
    "#### Range: The range of covariance is unbounded (can take any real value).\n",
    "### Correlation:\n",
    "#### Definition: Correlation is a standardized measure of the strength and direction of a linear relationship between two variables. It scales the covariance by the product of the standard deviations of the two variables.\n",
    "#### Units: Correlation is unitless and ranges from -1 to 1. The magnitude of correlation is not affected by the scales of the variables.\n",
    "#### Range: The range of correlation is between -1 and 1, where -1 indicates a perfect negative linear relationship, 1 indicates a perfect positive linear relationship, and 0 indicates no linear relationship."
   ]
  },
  {
   "cell_type": "markdown",
   "id": "674f33b5-e66d-429d-a1be-773b3eedab7d",
   "metadata": {},
   "source": [
    "Q14. How do outliers affect measures of central tendency and dispersion? Provide an example."
   ]
  },
  {
   "cell_type": "markdown",
   "id": "6be7c8b8-7c89-4c1f-8a85-b11e7d66abb8",
   "metadata": {},
   "source": [
    "### Measures of central tendency : \n",
    "#### 1) Mean:\n",
    "##### Outliers can significantly impact the mean because the mean is sensitive to extreme values.\n",
    "##### An outlier that is much higher or lower than the other data points can pull the mean in its direction.\n",
    "##### Example: Consider the dataset [10, 15, 20, 25, 30, 200]. The mean is greatly influenced by the outlier (200), resulting in a higher mean.\n",
    "#### 2) Median:\n",
    "##### The median is less affected by outliers because it is not influenced by the actual values but rather their order.\n",
    "##### An outlier does not have as much impact on the median as it does on the mean.\n",
    "##### Example: Using the same dataset [10, 15, 20, 25, 30, 200], the median remains relatively unchanged because it is not affected by the value of the outlier.\n",
    "#### 3) Mode:\n",
    "##### Outliers generally do not affect the mode, as the mode is determined by the most frequently occurring value.\n",
    "##### If there is no repeated value, or all values occur with the same frequency, the dataset is considered to have no mode.\n",
    "##### Example: In the dataset [10, 15, 20, 25, 30, 200], there is no mode.\n",
    "### Measures of Dispersion:\n",
    "#### 1) Range:\n",
    "##### Outliers can significantly impact the range, as it is the difference between the maximum and minimum values.\n",
    "##### A single outlier can lead to a much larger range.\n",
    "##### Example: In the dataset [10, 15, 20, 25, 30, 200], the range is heavily influenced by the outlier (200).\n",
    "#### 2) Variance and Standard Deviation:\n",
    "##### Outliers can have a substantial impact on variance and standard deviation because they involve squared differences from the mean.\n",
    "##### Squaring the difference accentuates the effect of outliers on these measures.\n",
    "##### Example: Using the dataset [10, 15, 20, 25, 30, 200], the variance and standard deviation are greatly influenced by the outlier.\n",
    "#### 3) Interquartile Range (IQR):\n",
    "##### IQR is less sensitive to outliers because it involves the range of the middle 50% of the data.\n",
    "##### It is less affected by extreme values in the tails of the distribution.\n",
    "##### Example: In the dataset [10, 15, 20, 25, 30, 200], the IQR is less affected by the outlier."
   ]
  }
 ],
 "metadata": {
  "kernelspec": {
   "display_name": "Python 3 (ipykernel)",
   "language": "python",
   "name": "python3"
  },
  "language_info": {
   "codemirror_mode": {
    "name": "ipython",
    "version": 3
   },
   "file_extension": ".py",
   "mimetype": "text/x-python",
   "name": "python",
   "nbconvert_exporter": "python",
   "pygments_lexer": "ipython3",
   "version": "3.10.8"
  }
 },
 "nbformat": 4,
 "nbformat_minor": 5
}
